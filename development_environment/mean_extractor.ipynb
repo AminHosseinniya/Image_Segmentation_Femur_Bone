{
 "cells": [
  {
   "cell_type": "markdown",
   "metadata": {},
   "source": [
    "# To get average honsfield of selected zones from main image"
   ]
  },
  {
   "cell_type": "code",
   "execution_count": 3,
   "metadata": {},
   "outputs": [],
   "source": [
    "import os\n",
    "import pydicom\n",
    "import pandas as pd\n",
    "import cv2\n",
    "import numpy as np\n",
    "import matplotlib.pyplot as plt\n",
    "from PIL import Image"
   ]
  },
  {
   "cell_type": "code",
   "execution_count": 2,
   "metadata": {},
   "outputs": [
    {
     "name": "stdout",
     "output_type": "stream",
     "text": [
      "True\n"
     ]
    },
    {
     "data": {
      "text/plain": [
       "array([[    0,     0,     0, ..., 65535, 65535, 61387],\n",
       "       [    0,     0,     0, ..., 65535, 65535, 60107],\n",
       "       [    0,     0,     0, ..., 65535, 65535, 59467],\n",
       "       ...,\n",
       "       [    0,     0,     0, ..., 65535, 65535, 61849],\n",
       "       [ 9082,  9720, 10423, ..., 65535, 65535, 63499],\n",
       "       [20293, 20641, 21427, ..., 65535, 65535, 64320]], dtype=uint16)"
      ]
     },
     "execution_count": 2,
     "metadata": {},
     "output_type": "execute_result"
    }
   ],
   "source": [
    "dicom_path = r\"./00000005.dcm\"  # Path to the DICOM file\n",
    "print(os.path.exists(dicom_path))  # Should return True if the DICOM file exists\n",
    "\n",
    "dicom_file = pydicom.dcmread(dicom_path)\n",
    "image = dicom_file.pixel_array\n",
    "image    "
   ]
  },
  {
   "cell_type": "code",
   "execution_count": 6,
   "metadata": {},
   "outputs": [],
   "source": [
    "# Paths to the mask image\n",
    "mask_paths = list()\n",
    "mask_paths = [f\"./Masks/00000005_mask{i+1}.png\" for i in range(5)]  # Replace with your mask image path"
   ]
  },
  {
   "cell_type": "code",
   "execution_count": null,
   "metadata": {},
   "outputs": [
    {
     "name": "stdout",
     "output_type": "stream",
     "text": [
      "OK!\n",
      "Mean pixel value in the mask 00000005_mask1.png: 27326.678694158076\n",
      "OK!\n",
      "Mean pixel value in the mask 00000005_mask2.png: 27177.24621965507\n",
      "OK!\n",
      "Mean pixel value in the mask 00000005_mask3.png: 27581.30777083834\n",
      "OK!\n",
      "Mean pixel value in the mask 00000005_mask4.png: 26477.87951807229\n",
      "OK!\n",
      "Mean pixel value in the mask 00000005_mask5.png: 26527.78649145118\n"
     ]
    }
   ],
   "source": [
    "# Load and process the mask image\n",
    "for mask_path in mask_paths:\n",
    "    mask = Image.open(mask_path)\n",
    "    mask_gray = mask.convert('L')  # Convert to grayscale\n",
    "    mask_binary = np.array(mask_gray) > 0  # Binarize: True for mask area, False otherwise\n",
    "\n",
    "    # Ensure the mask and DICOM image dimensions match\n",
    "    if mask_binary.shape != image.shape:\n",
    "        raise ValueError(f\"Mask dimensions {mask_binary.shape} do not match DICOM image dimensions {image.shape}.\")\n",
    "    # else:\n",
    "        # print(\"OK!\")\n",
    "\n",
    "    # Step 4: Apply the mask and calculate the mean\n",
    "    masked_pixels = image[mask_binary]  # Select pixels in the mask region\n",
    "    mean_pixel_value = masked_pixels.mean()  # Calculate the mean\n",
    "\n",
    "    # Output the result\n",
    "    print(f\"Mean pixel value in the mask {mask_path.split(\"/\")[-1]}: {mean_pixel_value}\")\n"
   ]
  }
 ],
 "metadata": {
  "kernelspec": {
   "display_name": "Python 3",
   "language": "python",
   "name": "python3"
  },
  "language_info": {
   "codemirror_mode": {
    "name": "ipython",
    "version": 3
   },
   "file_extension": ".py",
   "mimetype": "text/x-python",
   "name": "python",
   "nbconvert_exporter": "python",
   "pygments_lexer": "ipython3",
   "version": "3.12.5"
  }
 },
 "nbformat": 4,
 "nbformat_minor": 2
}
