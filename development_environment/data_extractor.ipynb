{
 "cells": [
  {
   "cell_type": "code",
   "execution_count": 18,
   "metadata": {},
   "outputs": [],
   "source": [
    "import pandas as pd\n",
    "import cv2\n",
    "import numpy as np\n",
    "import matplotlib.pyplot as plt\n",
    "\n",
    "# Define the file paths\n",
    "input_file_path = 'node-coordinate.rpt'\n",
    "# output_file_path = 'extracted_table.csv'"
   ]
  },
  {
   "cell_type": "markdown",
   "metadata": {},
   "source": [
    "extracting node-coordinates:"
   ]
  },
  {
   "cell_type": "code",
   "execution_count": 2,
   "metadata": {},
   "outputs": [],
   "source": [
    "# Read the .rpt file\n",
    "with open(input_file_path, 'r') as file:\n",
    "    lines = file.readlines()\n",
    "\n",
    "# Identify the start of the table\n",
    "start_line = 13\n",
    "\n",
    "# Extract the data from the table\n",
    "table_data = []\n",
    "for line in lines[start_line + 1:]:\n",
    "    if line.strip() == \"\" or line.startswith(\"----\") or \"X\" in line or \"Orig. Coords\" in line:\n",
    "        continue\n",
    "    parts = line.split()\n",
    "    part_instance = parts[0]\n",
    "    node_id = int(parts[1])\n",
    "    orig_coords = list(map(float, parts[2:5]))\n",
    "    def_coords = list(map(float, parts[5:]))\n",
    "    table_data.append([part_instance, node_id] + orig_coords + def_coords)\n",
    "\n",
    "# Create a DataFrame\n",
    "columns = ['Part Instance', 'Node ID', 'Orig X', 'Orig Y', 'Orig Z', 'Def X', 'Def Y', 'Def Z']\n",
    "df_node_coords = pd.DataFrame(table_data, columns=columns)"
   ]
  },
  {
   "cell_type": "code",
   "execution_count": 3,
   "metadata": {},
   "outputs": [
    {
     "data": {
      "text/plain": [
       "np.float64(244.44)"
      ]
     },
     "execution_count": 3,
     "metadata": {},
     "output_type": "execute_result"
    }
   ],
   "source": [
    "df_node_coords[\"Orig Y\"].max()"
   ]
  },
  {
   "cell_type": "code",
   "execution_count": 10,
   "metadata": {},
   "outputs": [
    {
     "data": {
      "text/html": [
       "<div>\n",
       "<style scoped>\n",
       "    .dataframe tbody tr th:only-of-type {\n",
       "        vertical-align: middle;\n",
       "    }\n",
       "\n",
       "    .dataframe tbody tr th {\n",
       "        vertical-align: top;\n",
       "    }\n",
       "\n",
       "    .dataframe thead th {\n",
       "        text-align: right;\n",
       "    }\n",
       "</style>\n",
       "<table border=\"1\" class=\"dataframe\">\n",
       "  <thead>\n",
       "    <tr style=\"text-align: right;\">\n",
       "      <th></th>\n",
       "      <th>Node ID</th>\n",
       "      <th>Orig X</th>\n",
       "      <th>Orig Y</th>\n",
       "      <th>Orig Z</th>\n",
       "    </tr>\n",
       "  </thead>\n",
       "  <tbody>\n",
       "    <tr>\n",
       "      <th>0</th>\n",
       "      <td>1</td>\n",
       "      <td>89.7910</td>\n",
       "      <td>232.513</td>\n",
       "      <td>28.85</td>\n",
       "    </tr>\n",
       "    <tr>\n",
       "      <th>1</th>\n",
       "      <td>2</td>\n",
       "      <td>113.9430</td>\n",
       "      <td>213.146</td>\n",
       "      <td>28.85</td>\n",
       "    </tr>\n",
       "    <tr>\n",
       "      <th>2</th>\n",
       "      <td>3</td>\n",
       "      <td>133.2090</td>\n",
       "      <td>236.151</td>\n",
       "      <td>28.85</td>\n",
       "    </tr>\n",
       "    <tr>\n",
       "      <th>3</th>\n",
       "      <td>4</td>\n",
       "      <td>80.7107</td>\n",
       "      <td>213.150</td>\n",
       "      <td>28.85</td>\n",
       "    </tr>\n",
       "    <tr>\n",
       "      <th>4</th>\n",
       "      <td>5</td>\n",
       "      <td>103.8230</td>\n",
       "      <td>202.393</td>\n",
       "      <td>28.85</td>\n",
       "    </tr>\n",
       "  </tbody>\n",
       "</table>\n",
       "</div>"
      ],
      "text/plain": [
       "   Node ID    Orig X   Orig Y  Orig Z\n",
       "0        1   89.7910  232.513   28.85\n",
       "1        2  113.9430  213.146   28.85\n",
       "2        3  133.2090  236.151   28.85\n",
       "3        4   80.7107  213.150   28.85\n",
       "4        5  103.8230  202.393   28.85"
      ]
     },
     "execution_count": 10,
     "metadata": {},
     "output_type": "execute_result"
    }
   ],
   "source": [
    "nodes_coordinates = df_node_coords[[\"Node ID\", \"Orig X\", \"Orig Y\", \"Orig Z\"]]\n",
    "nodes_coordinates.reset_index(inplace=True, drop=True)\n",
    "nodes_coordinates.head()"
   ]
  },
  {
   "cell_type": "code",
   "execution_count": 11,
   "metadata": {},
   "outputs": [
    {
     "data": {
      "text/html": [
       "<div>\n",
       "<style scoped>\n",
       "    .dataframe tbody tr th:only-of-type {\n",
       "        vertical-align: middle;\n",
       "    }\n",
       "\n",
       "    .dataframe tbody tr th {\n",
       "        vertical-align: top;\n",
       "    }\n",
       "\n",
       "    .dataframe thead th {\n",
       "        text-align: right;\n",
       "    }\n",
       "</style>\n",
       "<table border=\"1\" class=\"dataframe\">\n",
       "  <thead>\n",
       "    <tr style=\"text-align: right;\">\n",
       "      <th></th>\n",
       "      <th>Node ID</th>\n",
       "      <th>Orig X</th>\n",
       "      <th>Orig Y</th>\n",
       "      <th>Orig Z</th>\n",
       "    </tr>\n",
       "  </thead>\n",
       "  <tbody>\n",
       "    <tr>\n",
       "      <th>0</th>\n",
       "      <td>1</td>\n",
       "      <td>606.695946</td>\n",
       "      <td>1571.033784</td>\n",
       "      <td>194.932432</td>\n",
       "    </tr>\n",
       "    <tr>\n",
       "      <th>1</th>\n",
       "      <td>2</td>\n",
       "      <td>769.885135</td>\n",
       "      <td>1440.175676</td>\n",
       "      <td>194.932432</td>\n",
       "    </tr>\n",
       "    <tr>\n",
       "      <th>2</th>\n",
       "      <td>3</td>\n",
       "      <td>900.060811</td>\n",
       "      <td>1595.614865</td>\n",
       "      <td>194.932432</td>\n",
       "    </tr>\n",
       "    <tr>\n",
       "      <th>3</th>\n",
       "      <td>4</td>\n",
       "      <td>545.342568</td>\n",
       "      <td>1440.202703</td>\n",
       "      <td>194.932432</td>\n",
       "    </tr>\n",
       "    <tr>\n",
       "      <th>4</th>\n",
       "      <td>5</td>\n",
       "      <td>701.506757</td>\n",
       "      <td>1367.520270</td>\n",
       "      <td>194.932432</td>\n",
       "    </tr>\n",
       "  </tbody>\n",
       "</table>\n",
       "</div>"
      ],
      "text/plain": [
       "   Node ID      Orig X       Orig Y      Orig Z\n",
       "0        1  606.695946  1571.033784  194.932432\n",
       "1        2  769.885135  1440.175676  194.932432\n",
       "2        3  900.060811  1595.614865  194.932432\n",
       "3        4  545.342568  1440.202703  194.932432\n",
       "4        5  701.506757  1367.520270  194.932432"
      ]
     },
     "execution_count": 11,
     "metadata": {},
     "output_type": "execute_result"
    }
   ],
   "source": [
    "nodes_coordinates.loc[:, [\"Orig X\", \"Orig Y\", \"Orig Z\"]] = nodes_coordinates[[\"Orig X\", \"Orig Y\", \"Orig Z\"]]/0.148\n",
    "nodes_coordinates.head()"
   ]
  },
  {
   "cell_type": "code",
   "execution_count": 12,
   "metadata": {},
   "outputs": [],
   "source": [
    "node_ids = nodes_coordinates[\"Node ID\"].tolist()\n",
    "# nodes_in_first_layer_id"
   ]
  },
  {
   "cell_type": "code",
   "execution_count": 29,
   "metadata": {},
   "outputs": [
    {
     "data": {
      "text/plain": [
       "51     194.932432\n",
       "52     194.932432\n",
       "571    194.932432\n",
       "583    194.932432\n",
       "Name: Orig Z, dtype: float64"
      ]
     },
     "execution_count": 29,
     "metadata": {},
     "output_type": "execute_result"
    }
   ],
   "source": [
    "nodes_coordinates.loc[nodes_coordinates[\"Node ID\"].isin([572, 584, 53, 52]), \"Orig Z\"]"
   ]
  },
  {
   "cell_type": "markdown",
   "metadata": {},
   "source": [
    "extracting node-elements (each element is cnosisting of what nodes?):"
   ]
  },
  {
   "cell_type": "code",
   "execution_count": 13,
   "metadata": {},
   "outputs": [],
   "source": [
    "import pandas as pd\n",
    "\n",
    "# Define the file paths\n",
    "input_file_path_element = 'element-node.rpt'\n",
    "# output_file_path = 'extracted_table.csv'"
   ]
  },
  {
   "cell_type": "code",
   "execution_count": 46,
   "metadata": {},
   "outputs": [],
   "source": [
    "# Read the .rpt file\n",
    "with open(input_file_path_element, 'r') as file:\n",
    "    lines = file.readlines()\n",
    "\n",
    "node_ids_set = set(node_ids)  # Convert to set if not already a set\n",
    "# Identify the start of the table\n",
    "start_line = 15\n",
    "\n",
    "# Extract the data from the table\n",
    "table_data = []\n",
    "not_table_data = []\n",
    "\n",
    "for line in lines[start_line + 1:]:\n",
    "    if line.strip() == \"\" or line.startswith(\"----\") or \"Part\" in line or \"X\" in line or \"Orig. Coords\" in line:\n",
    "        continue\n",
    "    parts = line.split()\n",
    "    part_instance = parts[0]\n",
    "    element_id = int(parts[1])\n",
    "    Type = str(parts[2])\n",
    "    attached_nodes = list(map(int, parts[3:]))\n",
    "    first_attached_node = attached_nodes[0]\n",
    "\n",
    "    # Use list comprehension to filter nodes that have same Orig Z\n",
    "    attached_nodes = [\n",
    "    node for node in attached_nodes \n",
    "    if nodes_coordinates.loc[nodes_coordinates[\"Node ID\"] == node, \"Orig Z\"].values[0] \n",
    "    == nodes_coordinates.loc[nodes_coordinates[\"Node ID\"] == first_attached_node, \"Orig Z\"].values[0]\n",
    "    ]\n",
    "\n",
    "    element_to_be_append = [part_instance,  element_id, Type] + attached_nodes\n",
    "\n",
    "    if len(element_to_be_append) == 7:\n",
    "        table_data.append(element_to_be_append)\n",
    "\n"
   ]
  },
  {
   "cell_type": "code",
   "execution_count": 47,
   "metadata": {},
   "outputs": [
    {
     "data": {
      "text/plain": [
       "40768"
      ]
     },
     "execution_count": 47,
     "metadata": {},
     "output_type": "execute_result"
    }
   ],
   "source": [
    "len(table_data)"
   ]
  },
  {
   "cell_type": "code",
   "execution_count": 48,
   "metadata": {},
   "outputs": [
    {
     "data": {
      "text/html": [
       "<div>\n",
       "<style scoped>\n",
       "    .dataframe tbody tr th:only-of-type {\n",
       "        vertical-align: middle;\n",
       "    }\n",
       "\n",
       "    .dataframe tbody tr th {\n",
       "        vertical-align: top;\n",
       "    }\n",
       "\n",
       "    .dataframe thead th {\n",
       "        text-align: right;\n",
       "    }\n",
       "</style>\n",
       "<table border=\"1\" class=\"dataframe\">\n",
       "  <thead>\n",
       "    <tr style=\"text-align: right;\">\n",
       "      <th></th>\n",
       "      <th>Part Instance</th>\n",
       "      <th>Element ID</th>\n",
       "      <th>Type</th>\n",
       "      <th>Attached nodes 1</th>\n",
       "      <th>Attached nodes 2</th>\n",
       "      <th>Attached nodes 3</th>\n",
       "      <th>Attached nodes 4</th>\n",
       "    </tr>\n",
       "  </thead>\n",
       "  <tbody>\n",
       "    <tr>\n",
       "      <th>0</th>\n",
       "      <td>FEM-1</td>\n",
       "      <td>1</td>\n",
       "      <td>C3D8R</td>\n",
       "      <td>572</td>\n",
       "      <td>584</td>\n",
       "      <td>53</td>\n",
       "      <td>52</td>\n",
       "    </tr>\n",
       "    <tr>\n",
       "      <th>1</th>\n",
       "      <td>FEM-1</td>\n",
       "      <td>2</td>\n",
       "      <td>C3D8R</td>\n",
       "      <td>584</td>\n",
       "      <td>585</td>\n",
       "      <td>54</td>\n",
       "      <td>53</td>\n",
       "    </tr>\n",
       "    <tr>\n",
       "      <th>2</th>\n",
       "      <td>FEM-1</td>\n",
       "      <td>3</td>\n",
       "      <td>C3D8R</td>\n",
       "      <td>585</td>\n",
       "      <td>586</td>\n",
       "      <td>55</td>\n",
       "      <td>54</td>\n",
       "    </tr>\n",
       "    <tr>\n",
       "      <th>3</th>\n",
       "      <td>FEM-1</td>\n",
       "      <td>4</td>\n",
       "      <td>C3D8R</td>\n",
       "      <td>586</td>\n",
       "      <td>587</td>\n",
       "      <td>56</td>\n",
       "      <td>55</td>\n",
       "    </tr>\n",
       "    <tr>\n",
       "      <th>4</th>\n",
       "      <td>FEM-1</td>\n",
       "      <td>5</td>\n",
       "      <td>C3D8R</td>\n",
       "      <td>587</td>\n",
       "      <td>588</td>\n",
       "      <td>57</td>\n",
       "      <td>56</td>\n",
       "    </tr>\n",
       "  </tbody>\n",
       "</table>\n",
       "</div>"
      ],
      "text/plain": [
       "  Part Instance  Element ID   Type  Attached nodes 1  Attached nodes 2  \\\n",
       "0         FEM-1           1  C3D8R               572               584   \n",
       "1         FEM-1           2  C3D8R               584               585   \n",
       "2         FEM-1           3  C3D8R               585               586   \n",
       "3         FEM-1           4  C3D8R               586               587   \n",
       "4         FEM-1           5  C3D8R               587               588   \n",
       "\n",
       "   Attached nodes 3  Attached nodes 4  \n",
       "0                53                52  \n",
       "1                54                53  \n",
       "2                55                54  \n",
       "3                56                55  \n",
       "4                57                56  "
      ]
     },
     "execution_count": 48,
     "metadata": {},
     "output_type": "execute_result"
    }
   ],
   "source": [
    "# Create a DataFrame\n",
    "columns = ['Part Instance', 'Element ID', 'Type', \"Attached nodes 1\", \"Attached nodes 2\", \"Attached nodes 3\", \"Attached nodes 4\"]\n",
    "zone_nodes = pd.DataFrame(table_data, columns=columns)\n",
    "zone_nodes.head()"
   ]
  },
  {
   "cell_type": "code",
   "execution_count": 20,
   "metadata": {},
   "outputs": [
    {
     "data": {
      "text/plain": [
       "Part Instance       object\n",
       "Element ID           int64\n",
       "Type                object\n",
       "Attached nodes 1     int64\n",
       "Attached nodes 2     int64\n",
       "Attached nodes 3     int64\n",
       "Attached nodes 4     int64\n",
       "dtype: object"
      ]
     },
     "execution_count": 20,
     "metadata": {},
     "output_type": "execute_result"
    }
   ],
   "source": [
    "zone_nodes.dtypes"
   ]
  },
  {
   "cell_type": "markdown",
   "metadata": {},
   "source": [
    "Continue Process:"
   ]
  },
  {
   "cell_type": "code",
   "execution_count": 50,
   "metadata": {},
   "outputs": [
    {
     "data": {
      "text/html": [
       "<div>\n",
       "<style scoped>\n",
       "    .dataframe tbody tr th:only-of-type {\n",
       "        vertical-align: middle;\n",
       "    }\n",
       "\n",
       "    .dataframe tbody tr th {\n",
       "        vertical-align: top;\n",
       "    }\n",
       "\n",
       "    .dataframe thead th {\n",
       "        text-align: right;\n",
       "    }\n",
       "</style>\n",
       "<table border=\"1\" class=\"dataframe\">\n",
       "  <thead>\n",
       "    <tr style=\"text-align: right;\">\n",
       "      <th></th>\n",
       "      <th>Part Instance</th>\n",
       "      <th>Element ID</th>\n",
       "      <th>Type</th>\n",
       "      <th>Attached nodes 1</th>\n",
       "      <th>Attached nodes 2</th>\n",
       "      <th>Attached nodes 3</th>\n",
       "      <th>Attached nodes 4</th>\n",
       "    </tr>\n",
       "  </thead>\n",
       "  <tbody>\n",
       "    <tr>\n",
       "      <th>0</th>\n",
       "      <td>FEM-1</td>\n",
       "      <td>1</td>\n",
       "      <td>C3D8R</td>\n",
       "      <td>572</td>\n",
       "      <td>584</td>\n",
       "      <td>53</td>\n",
       "      <td>52</td>\n",
       "    </tr>\n",
       "    <tr>\n",
       "      <th>1</th>\n",
       "      <td>FEM-1</td>\n",
       "      <td>2</td>\n",
       "      <td>C3D8R</td>\n",
       "      <td>584</td>\n",
       "      <td>585</td>\n",
       "      <td>54</td>\n",
       "      <td>53</td>\n",
       "    </tr>\n",
       "    <tr>\n",
       "      <th>2</th>\n",
       "      <td>FEM-1</td>\n",
       "      <td>3</td>\n",
       "      <td>C3D8R</td>\n",
       "      <td>585</td>\n",
       "      <td>586</td>\n",
       "      <td>55</td>\n",
       "      <td>54</td>\n",
       "    </tr>\n",
       "    <tr>\n",
       "      <th>3</th>\n",
       "      <td>FEM-1</td>\n",
       "      <td>4</td>\n",
       "      <td>C3D8R</td>\n",
       "      <td>586</td>\n",
       "      <td>587</td>\n",
       "      <td>56</td>\n",
       "      <td>55</td>\n",
       "    </tr>\n",
       "    <tr>\n",
       "      <th>4</th>\n",
       "      <td>FEM-1</td>\n",
       "      <td>5</td>\n",
       "      <td>C3D8R</td>\n",
       "      <td>587</td>\n",
       "      <td>588</td>\n",
       "      <td>57</td>\n",
       "      <td>56</td>\n",
       "    </tr>\n",
       "    <tr>\n",
       "      <th>...</th>\n",
       "      <td>...</td>\n",
       "      <td>...</td>\n",
       "      <td>...</td>\n",
       "      <td>...</td>\n",
       "      <td>...</td>\n",
       "      <td>...</td>\n",
       "      <td>...</td>\n",
       "    </tr>\n",
       "    <tr>\n",
       "      <th>40763</th>\n",
       "      <td>FEM-1</td>\n",
       "      <td>40764</td>\n",
       "      <td>C3D8R</td>\n",
       "      <td>42924</td>\n",
       "      <td>42923</td>\n",
       "      <td>40281</td>\n",
       "      <td>40282</td>\n",
       "    </tr>\n",
       "    <tr>\n",
       "      <th>40764</th>\n",
       "      <td>FEM-1</td>\n",
       "      <td>40765</td>\n",
       "      <td>C3D8R</td>\n",
       "      <td>42923</td>\n",
       "      <td>40277</td>\n",
       "      <td>39894</td>\n",
       "      <td>40281</td>\n",
       "    </tr>\n",
       "    <tr>\n",
       "      <th>40765</th>\n",
       "      <td>FEM-1</td>\n",
       "      <td>40766</td>\n",
       "      <td>C3D8R</td>\n",
       "      <td>42923</td>\n",
       "      <td>40414</td>\n",
       "      <td>39895</td>\n",
       "      <td>40277</td>\n",
       "    </tr>\n",
       "    <tr>\n",
       "      <th>40766</th>\n",
       "      <td>FEM-1</td>\n",
       "      <td>40767</td>\n",
       "      <td>C3D8R</td>\n",
       "      <td>42924</td>\n",
       "      <td>40415</td>\n",
       "      <td>40414</td>\n",
       "      <td>42923</td>\n",
       "    </tr>\n",
       "    <tr>\n",
       "      <th>40767</th>\n",
       "      <td>FEM-1</td>\n",
       "      <td>40768</td>\n",
       "      <td>C3D8R</td>\n",
       "      <td>42922</td>\n",
       "      <td>40416</td>\n",
       "      <td>40415</td>\n",
       "      <td>42924</td>\n",
       "    </tr>\n",
       "  </tbody>\n",
       "</table>\n",
       "<p>40768 rows × 7 columns</p>\n",
       "</div>"
      ],
      "text/plain": [
       "      Part Instance  Element ID   Type  Attached nodes 1  Attached nodes 2  \\\n",
       "0             FEM-1           1  C3D8R               572               584   \n",
       "1             FEM-1           2  C3D8R               584               585   \n",
       "2             FEM-1           3  C3D8R               585               586   \n",
       "3             FEM-1           4  C3D8R               586               587   \n",
       "4             FEM-1           5  C3D8R               587               588   \n",
       "...             ...         ...    ...               ...               ...   \n",
       "40763         FEM-1       40764  C3D8R             42924             42923   \n",
       "40764         FEM-1       40765  C3D8R             42923             40277   \n",
       "40765         FEM-1       40766  C3D8R             42923             40414   \n",
       "40766         FEM-1       40767  C3D8R             42924             40415   \n",
       "40767         FEM-1       40768  C3D8R             42922             40416   \n",
       "\n",
       "       Attached nodes 3  Attached nodes 4  \n",
       "0                    53                52  \n",
       "1                    54                53  \n",
       "2                    55                54  \n",
       "3                    56                55  \n",
       "4                    57                56  \n",
       "...                 ...               ...  \n",
       "40763             40281             40282  \n",
       "40764             39894             40281  \n",
       "40765             39895             40277  \n",
       "40766             40414             42923  \n",
       "40767             40415             42924  \n",
       "\n",
       "[40768 rows x 7 columns]"
      ]
     },
     "execution_count": 50,
     "metadata": {},
     "output_type": "execute_result"
    }
   ],
   "source": [
    "zone_nodes"
   ]
  },
  {
   "cell_type": "code",
   "execution_count": 52,
   "metadata": {},
   "outputs": [],
   "source": [
    "# تابع برای رسم خطوط بین نودهای هر المان\n",
    "def draw_zone_boundaries(image, nodes_coordinates, zone_nodes):\n",
    "    for zone in zone_nodes:\n",
    "        # گرفتن مختصات نودهای هر zone\n",
    "        pts = np.array([nodes_coordinates[node_id] for node_id in zone], np.int32)\n",
    "        pts = pts.reshape((-1, 1, 2))\n",
    "        # رسم خط های مرزی zone ها\n",
    "        cv2.polylines(image, [pts], isClosed=True, color=(0, 255, 0), thickness=1)\n",
    "\n",
    "    return image"
   ]
  },
  {
   "cell_type": "code",
   "execution_count": 53,
   "metadata": {},
   "outputs": [],
   "source": [
    "# تابع برای محاسبه میانگین روشنایی هر zone\n",
    "def calculate_zone_brightness(image, nodes_coordinates, zone_nodes):\n",
    "    zone_brightness = []\n",
    "    for zone in zone_nodes:\n",
    "        # گرفتن مختصات نودهای هر zone\n",
    "        pts = np.array([nodes_coordinates[node_id] for node_id in zone], np.int32)\n",
    "        # ایجاد ماسک برای zone\n",
    "        mask = np.zeros(image.shape[:2], dtype=np.uint8)\n",
    "        cv2.fillPoly(mask, [pts], 255)\n",
    "        # محاسبه میانگین روشنایی منطقه با استفاده از ماسک\n",
    "        mean_brightness = cv2.mean(image, mask=mask)[0]\n",
    "        zone_brightness.append(mean_brightness)\n",
    "    \n",
    "    return zone_brightness"
   ]
  },
  {
   "cell_type": "code",
   "execution_count": 54,
   "metadata": {},
   "outputs": [],
   "source": [
    "# تابع اصلی برای پردازش تصویر و محاسبه میانگین روشنایی هر المان\n",
    "def process_image(image_path, nodes_df, elements_df):\n",
    "    # بارگذاری تصویر\n",
    "    image = cv2.imread(image_path)\n",
    "    gray_image = cv2.cvtColor(image, cv2.COLOR_BGR2GRAY)\n",
    "    \n",
    "    # استخراج مختصات نودها\n",
    "    nodes_coordinates = {row['Node ID']: (row['Orig X'], row['Orig Y']) for _, row in nodes_df.iterrows()}\n",
    "    \n",
    "    # استخراج نودهای هر المان\n",
    "    zone_nodes = elements_df[['Attached nodes 1', 'Attached nodes 2', 'Attached nodes 3', 'Attached nodes 4']].values.tolist()\n",
    "    \n",
    "    # رسم مرزهای المان‌ها روی تصویر\n",
    "    image_with_zones = draw_zone_boundaries(image.copy(), nodes_coordinates, zone_nodes)\n",
    "    \n",
    "    # محاسبه میانگین روشنایی هر المان (از تصویر خاکستری)\n",
    "    zone_brightness = calculate_zone_brightness(gray_image, nodes_coordinates, zone_nodes)\n",
    "    \n",
    "    # افزودن میانگین روشنایی به دیتافریم المان‌ها\n",
    "    elements_df['Mean Brightness'] = zone_brightness\n",
    "    \n",
    "    # نمایش تصویر همراه با مرزها\n",
    "    plt.imshow(cv2.cvtColor(image_with_zones, cv2.COLOR_BGR2RGB))\n",
    "    plt.title('Image with Zone Boundaries')\n",
    "    plt.show()\n",
    "\n",
    "    return elements_df"
   ]
  },
  {
   "cell_type": "code",
   "execution_count": 57,
   "metadata": {},
   "outputs": [
    {
     "name": "stdout",
     "output_type": "stream",
     "text": [
      "False\n"
     ]
    }
   ],
   "source": [
    "import os\n",
    "image_path = \"D:\\\\Mammad's Project\\\\Thresholded_Images (1)\\\\00000005.png\"  # مسیر تصویر خود را وارد کنید\n",
    "print(os.path.exists(image_path))  # Should return True if the image exists"
   ]
  },
  {
   "cell_type": "code",
   "execution_count": 56,
   "metadata": {},
   "outputs": [
    {
     "ename": "TypeError",
     "evalue": "Image data of dtype object cannot be converted to float",
     "output_type": "error",
     "traceback": [
      "\u001b[1;31m---------------------------------------------------------------------------\u001b[0m",
      "\u001b[1;31mTypeError\u001b[0m                                 Traceback (most recent call last)",
      "Cell \u001b[1;32mIn[56], line 3\u001b[0m\n\u001b[0;32m      1\u001b[0m image \u001b[38;5;241m=\u001b[39m cv2\u001b[38;5;241m.\u001b[39mimread(image_path)\n\u001b[0;32m      2\u001b[0m \u001b[38;5;66;03m# cv2.imshow(\"image\", image)\u001b[39;00m\n\u001b[1;32m----> 3\u001b[0m \u001b[43mplt\u001b[49m\u001b[38;5;241;43m.\u001b[39;49m\u001b[43mimshow\u001b[49m\u001b[43m(\u001b[49m\u001b[43mimage\u001b[49m\u001b[43m)\u001b[49m\n",
      "File \u001b[1;32mc:\\Users\\asus\\AppData\\Local\\Programs\\Python\\Python312\\Lib\\site-packages\\matplotlib\\pyplot.py:3562\u001b[0m, in \u001b[0;36mimshow\u001b[1;34m(X, cmap, norm, aspect, interpolation, alpha, vmin, vmax, origin, extent, interpolation_stage, filternorm, filterrad, resample, url, data, **kwargs)\u001b[0m\n\u001b[0;32m   3541\u001b[0m \u001b[38;5;129m@_copy_docstring_and_deprecators\u001b[39m(Axes\u001b[38;5;241m.\u001b[39mimshow)\n\u001b[0;32m   3542\u001b[0m \u001b[38;5;28;01mdef\u001b[39;00m \u001b[38;5;21mimshow\u001b[39m(\n\u001b[0;32m   3543\u001b[0m     X: ArrayLike \u001b[38;5;241m|\u001b[39m PIL\u001b[38;5;241m.\u001b[39mImage\u001b[38;5;241m.\u001b[39mImage,\n\u001b[1;32m   (...)\u001b[0m\n\u001b[0;32m   3560\u001b[0m     \u001b[38;5;241m*\u001b[39m\u001b[38;5;241m*\u001b[39mkwargs,\n\u001b[0;32m   3561\u001b[0m ) \u001b[38;5;241m-\u001b[39m\u001b[38;5;241m>\u001b[39m AxesImage:\n\u001b[1;32m-> 3562\u001b[0m     __ret \u001b[38;5;241m=\u001b[39m \u001b[43mgca\u001b[49m\u001b[43m(\u001b[49m\u001b[43m)\u001b[49m\u001b[38;5;241;43m.\u001b[39;49m\u001b[43mimshow\u001b[49m\u001b[43m(\u001b[49m\n\u001b[0;32m   3563\u001b[0m \u001b[43m        \u001b[49m\u001b[43mX\u001b[49m\u001b[43m,\u001b[49m\n\u001b[0;32m   3564\u001b[0m \u001b[43m        \u001b[49m\u001b[43mcmap\u001b[49m\u001b[38;5;241;43m=\u001b[39;49m\u001b[43mcmap\u001b[49m\u001b[43m,\u001b[49m\n\u001b[0;32m   3565\u001b[0m \u001b[43m        \u001b[49m\u001b[43mnorm\u001b[49m\u001b[38;5;241;43m=\u001b[39;49m\u001b[43mnorm\u001b[49m\u001b[43m,\u001b[49m\n\u001b[0;32m   3566\u001b[0m \u001b[43m        \u001b[49m\u001b[43maspect\u001b[49m\u001b[38;5;241;43m=\u001b[39;49m\u001b[43maspect\u001b[49m\u001b[43m,\u001b[49m\n\u001b[0;32m   3567\u001b[0m \u001b[43m        \u001b[49m\u001b[43minterpolation\u001b[49m\u001b[38;5;241;43m=\u001b[39;49m\u001b[43minterpolation\u001b[49m\u001b[43m,\u001b[49m\n\u001b[0;32m   3568\u001b[0m \u001b[43m        \u001b[49m\u001b[43malpha\u001b[49m\u001b[38;5;241;43m=\u001b[39;49m\u001b[43malpha\u001b[49m\u001b[43m,\u001b[49m\n\u001b[0;32m   3569\u001b[0m \u001b[43m        \u001b[49m\u001b[43mvmin\u001b[49m\u001b[38;5;241;43m=\u001b[39;49m\u001b[43mvmin\u001b[49m\u001b[43m,\u001b[49m\n\u001b[0;32m   3570\u001b[0m \u001b[43m        \u001b[49m\u001b[43mvmax\u001b[49m\u001b[38;5;241;43m=\u001b[39;49m\u001b[43mvmax\u001b[49m\u001b[43m,\u001b[49m\n\u001b[0;32m   3571\u001b[0m \u001b[43m        \u001b[49m\u001b[43morigin\u001b[49m\u001b[38;5;241;43m=\u001b[39;49m\u001b[43morigin\u001b[49m\u001b[43m,\u001b[49m\n\u001b[0;32m   3572\u001b[0m \u001b[43m        \u001b[49m\u001b[43mextent\u001b[49m\u001b[38;5;241;43m=\u001b[39;49m\u001b[43mextent\u001b[49m\u001b[43m,\u001b[49m\n\u001b[0;32m   3573\u001b[0m \u001b[43m        \u001b[49m\u001b[43minterpolation_stage\u001b[49m\u001b[38;5;241;43m=\u001b[39;49m\u001b[43minterpolation_stage\u001b[49m\u001b[43m,\u001b[49m\n\u001b[0;32m   3574\u001b[0m \u001b[43m        \u001b[49m\u001b[43mfilternorm\u001b[49m\u001b[38;5;241;43m=\u001b[39;49m\u001b[43mfilternorm\u001b[49m\u001b[43m,\u001b[49m\n\u001b[0;32m   3575\u001b[0m \u001b[43m        \u001b[49m\u001b[43mfilterrad\u001b[49m\u001b[38;5;241;43m=\u001b[39;49m\u001b[43mfilterrad\u001b[49m\u001b[43m,\u001b[49m\n\u001b[0;32m   3576\u001b[0m \u001b[43m        \u001b[49m\u001b[43mresample\u001b[49m\u001b[38;5;241;43m=\u001b[39;49m\u001b[43mresample\u001b[49m\u001b[43m,\u001b[49m\n\u001b[0;32m   3577\u001b[0m \u001b[43m        \u001b[49m\u001b[43murl\u001b[49m\u001b[38;5;241;43m=\u001b[39;49m\u001b[43murl\u001b[49m\u001b[43m,\u001b[49m\n\u001b[0;32m   3578\u001b[0m \u001b[43m        \u001b[49m\u001b[38;5;241;43m*\u001b[39;49m\u001b[38;5;241;43m*\u001b[39;49m\u001b[43m(\u001b[49m\u001b[43m{\u001b[49m\u001b[38;5;124;43m\"\u001b[39;49m\u001b[38;5;124;43mdata\u001b[39;49m\u001b[38;5;124;43m\"\u001b[39;49m\u001b[43m:\u001b[49m\u001b[43m \u001b[49m\u001b[43mdata\u001b[49m\u001b[43m}\u001b[49m\u001b[43m \u001b[49m\u001b[38;5;28;43;01mif\u001b[39;49;00m\u001b[43m \u001b[49m\u001b[43mdata\u001b[49m\u001b[43m \u001b[49m\u001b[38;5;129;43;01mis\u001b[39;49;00m\u001b[43m \u001b[49m\u001b[38;5;129;43;01mnot\u001b[39;49;00m\u001b[43m \u001b[49m\u001b[38;5;28;43;01mNone\u001b[39;49;00m\u001b[43m \u001b[49m\u001b[38;5;28;43;01melse\u001b[39;49;00m\u001b[43m \u001b[49m\u001b[43m{\u001b[49m\u001b[43m}\u001b[49m\u001b[43m)\u001b[49m\u001b[43m,\u001b[49m\n\u001b[0;32m   3579\u001b[0m \u001b[43m        \u001b[49m\u001b[38;5;241;43m*\u001b[39;49m\u001b[38;5;241;43m*\u001b[39;49m\u001b[43mkwargs\u001b[49m\u001b[43m,\u001b[49m\n\u001b[0;32m   3580\u001b[0m \u001b[43m    \u001b[49m\u001b[43m)\u001b[49m\n\u001b[0;32m   3581\u001b[0m     sci(__ret)\n\u001b[0;32m   3582\u001b[0m     \u001b[38;5;28;01mreturn\u001b[39;00m __ret\n",
      "File \u001b[1;32mc:\\Users\\asus\\AppData\\Local\\Programs\\Python\\Python312\\Lib\\site-packages\\matplotlib\\__init__.py:1473\u001b[0m, in \u001b[0;36m_preprocess_data.<locals>.inner\u001b[1;34m(ax, data, *args, **kwargs)\u001b[0m\n\u001b[0;32m   1470\u001b[0m \u001b[38;5;129m@functools\u001b[39m\u001b[38;5;241m.\u001b[39mwraps(func)\n\u001b[0;32m   1471\u001b[0m \u001b[38;5;28;01mdef\u001b[39;00m \u001b[38;5;21minner\u001b[39m(ax, \u001b[38;5;241m*\u001b[39margs, data\u001b[38;5;241m=\u001b[39m\u001b[38;5;28;01mNone\u001b[39;00m, \u001b[38;5;241m*\u001b[39m\u001b[38;5;241m*\u001b[39mkwargs):\n\u001b[0;32m   1472\u001b[0m     \u001b[38;5;28;01mif\u001b[39;00m data \u001b[38;5;129;01mis\u001b[39;00m \u001b[38;5;28;01mNone\u001b[39;00m:\n\u001b[1;32m-> 1473\u001b[0m         \u001b[38;5;28;01mreturn\u001b[39;00m \u001b[43mfunc\u001b[49m\u001b[43m(\u001b[49m\n\u001b[0;32m   1474\u001b[0m \u001b[43m            \u001b[49m\u001b[43max\u001b[49m\u001b[43m,\u001b[49m\n\u001b[0;32m   1475\u001b[0m \u001b[43m            \u001b[49m\u001b[38;5;241;43m*\u001b[39;49m\u001b[38;5;28;43mmap\u001b[39;49m\u001b[43m(\u001b[49m\u001b[43msanitize_sequence\u001b[49m\u001b[43m,\u001b[49m\u001b[43m \u001b[49m\u001b[43margs\u001b[49m\u001b[43m)\u001b[49m\u001b[43m,\u001b[49m\n\u001b[0;32m   1476\u001b[0m \u001b[43m            \u001b[49m\u001b[38;5;241;43m*\u001b[39;49m\u001b[38;5;241;43m*\u001b[39;49m\u001b[43m{\u001b[49m\u001b[43mk\u001b[49m\u001b[43m:\u001b[49m\u001b[43m \u001b[49m\u001b[43msanitize_sequence\u001b[49m\u001b[43m(\u001b[49m\u001b[43mv\u001b[49m\u001b[43m)\u001b[49m\u001b[43m \u001b[49m\u001b[38;5;28;43;01mfor\u001b[39;49;00m\u001b[43m \u001b[49m\u001b[43mk\u001b[49m\u001b[43m,\u001b[49m\u001b[43m \u001b[49m\u001b[43mv\u001b[49m\u001b[43m \u001b[49m\u001b[38;5;129;43;01min\u001b[39;49;00m\u001b[43m \u001b[49m\u001b[43mkwargs\u001b[49m\u001b[38;5;241;43m.\u001b[39;49m\u001b[43mitems\u001b[49m\u001b[43m(\u001b[49m\u001b[43m)\u001b[49m\u001b[43m}\u001b[49m\u001b[43m)\u001b[49m\n\u001b[0;32m   1478\u001b[0m     bound \u001b[38;5;241m=\u001b[39m new_sig\u001b[38;5;241m.\u001b[39mbind(ax, \u001b[38;5;241m*\u001b[39margs, \u001b[38;5;241m*\u001b[39m\u001b[38;5;241m*\u001b[39mkwargs)\n\u001b[0;32m   1479\u001b[0m     auto_label \u001b[38;5;241m=\u001b[39m (bound\u001b[38;5;241m.\u001b[39marguments\u001b[38;5;241m.\u001b[39mget(label_namer)\n\u001b[0;32m   1480\u001b[0m                   \u001b[38;5;129;01mor\u001b[39;00m bound\u001b[38;5;241m.\u001b[39mkwargs\u001b[38;5;241m.\u001b[39mget(label_namer))\n",
      "File \u001b[1;32mc:\\Users\\asus\\AppData\\Local\\Programs\\Python\\Python312\\Lib\\site-packages\\matplotlib\\axes\\_axes.py:5895\u001b[0m, in \u001b[0;36mAxes.imshow\u001b[1;34m(self, X, cmap, norm, aspect, interpolation, alpha, vmin, vmax, origin, extent, interpolation_stage, filternorm, filterrad, resample, url, **kwargs)\u001b[0m\n\u001b[0;32m   5892\u001b[0m \u001b[38;5;28;01mif\u001b[39;00m aspect \u001b[38;5;129;01mis\u001b[39;00m \u001b[38;5;129;01mnot\u001b[39;00m \u001b[38;5;28;01mNone\u001b[39;00m:\n\u001b[0;32m   5893\u001b[0m     \u001b[38;5;28mself\u001b[39m\u001b[38;5;241m.\u001b[39mset_aspect(aspect)\n\u001b[1;32m-> 5895\u001b[0m \u001b[43mim\u001b[49m\u001b[38;5;241;43m.\u001b[39;49m\u001b[43mset_data\u001b[49m\u001b[43m(\u001b[49m\u001b[43mX\u001b[49m\u001b[43m)\u001b[49m\n\u001b[0;32m   5896\u001b[0m im\u001b[38;5;241m.\u001b[39mset_alpha(alpha)\n\u001b[0;32m   5897\u001b[0m \u001b[38;5;28;01mif\u001b[39;00m im\u001b[38;5;241m.\u001b[39mget_clip_path() \u001b[38;5;129;01mis\u001b[39;00m \u001b[38;5;28;01mNone\u001b[39;00m:\n\u001b[0;32m   5898\u001b[0m     \u001b[38;5;66;03m# image does not already have clipping set, clip to Axes patch\u001b[39;00m\n",
      "File \u001b[1;32mc:\\Users\\asus\\AppData\\Local\\Programs\\Python\\Python312\\Lib\\site-packages\\matplotlib\\image.py:729\u001b[0m, in \u001b[0;36m_ImageBase.set_data\u001b[1;34m(self, A)\u001b[0m\n\u001b[0;32m    727\u001b[0m \u001b[38;5;28;01mif\u001b[39;00m \u001b[38;5;28misinstance\u001b[39m(A, PIL\u001b[38;5;241m.\u001b[39mImage\u001b[38;5;241m.\u001b[39mImage):\n\u001b[0;32m    728\u001b[0m     A \u001b[38;5;241m=\u001b[39m pil_to_array(A)  \u001b[38;5;66;03m# Needed e.g. to apply png palette.\u001b[39;00m\n\u001b[1;32m--> 729\u001b[0m \u001b[38;5;28mself\u001b[39m\u001b[38;5;241m.\u001b[39m_A \u001b[38;5;241m=\u001b[39m \u001b[38;5;28;43mself\u001b[39;49m\u001b[38;5;241;43m.\u001b[39;49m\u001b[43m_normalize_image_array\u001b[49m\u001b[43m(\u001b[49m\u001b[43mA\u001b[49m\u001b[43m)\u001b[49m\n\u001b[0;32m    730\u001b[0m \u001b[38;5;28mself\u001b[39m\u001b[38;5;241m.\u001b[39m_imcache \u001b[38;5;241m=\u001b[39m \u001b[38;5;28;01mNone\u001b[39;00m\n\u001b[0;32m    731\u001b[0m \u001b[38;5;28mself\u001b[39m\u001b[38;5;241m.\u001b[39mstale \u001b[38;5;241m=\u001b[39m \u001b[38;5;28;01mTrue\u001b[39;00m\n",
      "File \u001b[1;32mc:\\Users\\asus\\AppData\\Local\\Programs\\Python\\Python312\\Lib\\site-packages\\matplotlib\\image.py:692\u001b[0m, in \u001b[0;36m_ImageBase._normalize_image_array\u001b[1;34m(A)\u001b[0m\n\u001b[0;32m    690\u001b[0m A \u001b[38;5;241m=\u001b[39m cbook\u001b[38;5;241m.\u001b[39msafe_masked_invalid(A, copy\u001b[38;5;241m=\u001b[39m\u001b[38;5;28;01mTrue\u001b[39;00m)\n\u001b[0;32m    691\u001b[0m \u001b[38;5;28;01mif\u001b[39;00m A\u001b[38;5;241m.\u001b[39mdtype \u001b[38;5;241m!=\u001b[39m np\u001b[38;5;241m.\u001b[39muint8 \u001b[38;5;129;01mand\u001b[39;00m \u001b[38;5;129;01mnot\u001b[39;00m np\u001b[38;5;241m.\u001b[39mcan_cast(A\u001b[38;5;241m.\u001b[39mdtype, \u001b[38;5;28mfloat\u001b[39m, \u001b[38;5;124m\"\u001b[39m\u001b[38;5;124msame_kind\u001b[39m\u001b[38;5;124m\"\u001b[39m):\n\u001b[1;32m--> 692\u001b[0m     \u001b[38;5;28;01mraise\u001b[39;00m \u001b[38;5;167;01mTypeError\u001b[39;00m(\u001b[38;5;124mf\u001b[39m\u001b[38;5;124m\"\u001b[39m\u001b[38;5;124mImage data of dtype \u001b[39m\u001b[38;5;132;01m{\u001b[39;00mA\u001b[38;5;241m.\u001b[39mdtype\u001b[38;5;132;01m}\u001b[39;00m\u001b[38;5;124m cannot be \u001b[39m\u001b[38;5;124m\"\u001b[39m\n\u001b[0;32m    693\u001b[0m                     \u001b[38;5;124mf\u001b[39m\u001b[38;5;124m\"\u001b[39m\u001b[38;5;124mconverted to float\u001b[39m\u001b[38;5;124m\"\u001b[39m)\n\u001b[0;32m    694\u001b[0m \u001b[38;5;28;01mif\u001b[39;00m A\u001b[38;5;241m.\u001b[39mndim \u001b[38;5;241m==\u001b[39m \u001b[38;5;241m3\u001b[39m \u001b[38;5;129;01mand\u001b[39;00m A\u001b[38;5;241m.\u001b[39mshape[\u001b[38;5;241m-\u001b[39m\u001b[38;5;241m1\u001b[39m] \u001b[38;5;241m==\u001b[39m \u001b[38;5;241m1\u001b[39m:\n\u001b[0;32m    695\u001b[0m     A \u001b[38;5;241m=\u001b[39m A\u001b[38;5;241m.\u001b[39msqueeze(\u001b[38;5;241m-\u001b[39m\u001b[38;5;241m1\u001b[39m)  \u001b[38;5;66;03m# If just (M, N, 1), assume scalar and apply colormap.\u001b[39;00m\n",
      "\u001b[1;31mTypeError\u001b[0m: Image data of dtype object cannot be converted to float"
     ]
    },
    {
     "data": {
      "image/png": "[encoded data removed]",
      "text/plain": [
       "<Figure size 640x480 with 1 Axes>"
      ]
     },
     "metadata": {},
     "output_type": "display_data"
    }
   ],
   "source": [
    "image = cv2.imread(image_path)\n",
    "# cv2.imshow(\"image\", image)\n",
    "plt.imshow(image)"
   ]
  },
  {
   "cell_type": "code",
   "execution_count": 29,
   "metadata": {},
   "outputs": [],
   "source": [
    "nodes_coordinates[\"Orig Y\"] = -nodes_coordinates[\"Orig Y\"] + image.shape[0]"
   ]
  },
  {
   "cell_type": "code",
   "execution_count": 30,
   "metadata": {},
   "outputs": [
    {
     "name": "stdout",
     "output_type": "stream",
     "text": [
      "(2879, 2854, 3)\n"
     ]
    }
   ],
   "source": [
    "print(image.shape)"
   ]
  },
  {
   "cell_type": "code",
   "execution_count": 31,
   "metadata": {},
   "outputs": [
    {
     "data": {
      "image/png": "[encoded data removed]",
      "text/plain": [
       "<Figure size 640x480 with 1 Axes>"
      ]
     },
     "metadata": {},
     "output_type": "display_data"
    },
    {
     "name": "stdout",
     "output_type": "stream",
     "text": [
      "     Part Instance  Element ID   Type  Attached nodes 1  Attached nodes 2  \\\n",
      "0            FEM-1       37857  C3D8R             43496             43508   \n",
      "1            FEM-1       37858  C3D8R             43508             43509   \n",
      "2            FEM-1       37859  C3D8R             43509             43510   \n",
      "3            FEM-1       37860  C3D8R             43510             43511   \n",
      "4            FEM-1       37861  C3D8R             43511             43512   \n",
      "...            ...         ...    ...               ...               ...   \n",
      "2907         FEM-1       40764  C3D8R             45990             45989   \n",
      "2908         FEM-1       40765  C3D8R             45989             43343   \n",
      "2909         FEM-1       40766  C3D8R             45989             43480   \n",
      "2910         FEM-1       40767  C3D8R             45990             43481   \n",
      "2911         FEM-1       40768  C3D8R             45988             43482   \n",
      "\n",
      "      Attached nodes 3  Attached nodes 4  Mean Brightness  \n",
      "0                42977             42976       128.392857  \n",
      "1                42978             42977       127.729508  \n",
      "2                42979             42978       127.443662  \n",
      "3                42980             42979       123.854545  \n",
      "4                42981             42980       124.252809  \n",
      "...                ...               ...              ...  \n",
      "2907             43347             43348        68.317460  \n",
      "2908             42960             43347        76.824885  \n",
      "2909             42961             43343        62.965517  \n",
      "2910             43480             45989        57.876847  \n",
      "2911             43481             45990        59.518519  \n",
      "\n",
      "[2912 rows x 8 columns]\n"
     ]
    }
   ],
   "source": [
    "# اجرای تابع اصلی\n",
    "processed_elements_df = process_image(image_path, nodes_coordinates, zone_nodes)\n",
    "\n",
    "# نمایش دیتافریم نهایی با میانگین روشنایی هر المان\n",
    "print(processed_elements_df)"
   ]
  },
  {
   "cell_type": "code",
   "execution_count": 32,
   "metadata": {},
   "outputs": [
    {
     "data": {
      "text/plain": [
       "Mean Brightness\n",
       "107.125000    2\n",
       "104.414286    2\n",
       "107.105469    2\n",
       "101.924171    2\n",
       "100.000000    2\n",
       "             ..\n",
       "98.259804     1\n",
       "128.348214    1\n",
       "128.957265    1\n",
       "129.134921    1\n",
       "126.020548    1\n",
       "Name: count, Length: 2896, dtype: int64"
      ]
     },
     "execution_count": 32,
     "metadata": {},
     "output_type": "execute_result"
    }
   ],
   "source": [
    "processed_elements_df[\"Mean Brightness\"].value_counts()"
   ]
  },
  {
   "cell_type": "code",
   "execution_count": 33,
   "metadata": {},
   "outputs": [
    {
     "data": {
      "text/html": [
       "<div>\n",
       "<style scoped>\n",
       "    .dataframe tbody tr th:only-of-type {\n",
       "        vertical-align: middle;\n",
       "    }\n",
       "\n",
       "    .dataframe tbody tr th {\n",
       "        vertical-align: top;\n",
       "    }\n",
       "\n",
       "    .dataframe thead th {\n",
       "        text-align: right;\n",
       "    }\n",
       "</style>\n",
       "<table border=\"1\" class=\"dataframe\">\n",
       "  <thead>\n",
       "    <tr style=\"text-align: right;\">\n",
       "      <th></th>\n",
       "      <th>Part Instance</th>\n",
       "      <th>Element ID</th>\n",
       "      <th>Type</th>\n",
       "      <th>Attached nodes 1</th>\n",
       "      <th>Attached nodes 2</th>\n",
       "      <th>Attached nodes 3</th>\n",
       "      <th>Attached nodes 4</th>\n",
       "      <th>Mean Brightness</th>\n",
       "    </tr>\n",
       "  </thead>\n",
       "  <tbody>\n",
       "    <tr>\n",
       "      <th>0</th>\n",
       "      <td>FEM-1</td>\n",
       "      <td>37857</td>\n",
       "      <td>C3D8R</td>\n",
       "      <td>43496</td>\n",
       "      <td>43508</td>\n",
       "      <td>42977</td>\n",
       "      <td>42976</td>\n",
       "      <td>128.392857</td>\n",
       "    </tr>\n",
       "    <tr>\n",
       "      <th>1</th>\n",
       "      <td>FEM-1</td>\n",
       "      <td>37858</td>\n",
       "      <td>C3D8R</td>\n",
       "      <td>43508</td>\n",
       "      <td>43509</td>\n",
       "      <td>42978</td>\n",
       "      <td>42977</td>\n",
       "      <td>127.729508</td>\n",
       "    </tr>\n",
       "    <tr>\n",
       "      <th>2</th>\n",
       "      <td>FEM-1</td>\n",
       "      <td>37859</td>\n",
       "      <td>C3D8R</td>\n",
       "      <td>43509</td>\n",
       "      <td>43510</td>\n",
       "      <td>42979</td>\n",
       "      <td>42978</td>\n",
       "      <td>127.443662</td>\n",
       "    </tr>\n",
       "    <tr>\n",
       "      <th>3</th>\n",
       "      <td>FEM-1</td>\n",
       "      <td>37860</td>\n",
       "      <td>C3D8R</td>\n",
       "      <td>43510</td>\n",
       "      <td>43511</td>\n",
       "      <td>42980</td>\n",
       "      <td>42979</td>\n",
       "      <td>123.854545</td>\n",
       "    </tr>\n",
       "    <tr>\n",
       "      <th>4</th>\n",
       "      <td>FEM-1</td>\n",
       "      <td>37861</td>\n",
       "      <td>C3D8R</td>\n",
       "      <td>43511</td>\n",
       "      <td>43512</td>\n",
       "      <td>42981</td>\n",
       "      <td>42980</td>\n",
       "      <td>124.252809</td>\n",
       "    </tr>\n",
       "  </tbody>\n",
       "</table>\n",
       "</div>"
      ],
      "text/plain": [
       "  Part Instance  Element ID   Type  Attached nodes 1  Attached nodes 2  \\\n",
       "0         FEM-1       37857  C3D8R             43496             43508   \n",
       "1         FEM-1       37858  C3D8R             43508             43509   \n",
       "2         FEM-1       37859  C3D8R             43509             43510   \n",
       "3         FEM-1       37860  C3D8R             43510             43511   \n",
       "4         FEM-1       37861  C3D8R             43511             43512   \n",
       "\n",
       "   Attached nodes 3  Attached nodes 4  Mean Brightness  \n",
       "0             42977             42976       128.392857  \n",
       "1             42978             42977       127.729508  \n",
       "2             42979             42978       127.443662  \n",
       "3             42980             42979       123.854545  \n",
       "4             42981             42980       124.252809  "
      ]
     },
     "execution_count": 33,
     "metadata": {},
     "output_type": "execute_result"
    }
   ],
   "source": [
    "processed_elements_df.head()"
   ]
  },
  {
   "cell_type": "code",
   "execution_count": null,
   "metadata": {},
   "outputs": [],
   "source": []
  },
  {
   "cell_type": "code",
   "execution_count": null,
   "metadata": {},
   "outputs": [],
   "source": []
  },
  {
   "cell_type": "code",
   "execution_count": 34,
   "metadata": {},
   "outputs": [
    {
     "name": "stdout",
     "output_type": "stream",
     "text": [
      "Table extracted and saved to zones_mean_brightness.csv\n"
     ]
    }
   ],
   "source": [
    "# Save the DataFrame to a CSV file\n",
    "output_file_path = \"zones_mean_brightness.csv\"\n",
    "processed_elements_df.to_csv(output_file_path, index=False)\n",
    "\n",
    "output_file_path = \"zones_mean_brightness.xlsx\"\n",
    "processed_elements_df.to_excel(output_file_path, index=False)\n",
    "\n",
    "print(f\"Table extracted and saved to {output_file_path} as csv and excel.\")"
   ]
  }
 ],
 "metadata": {
  "kernelspec": {
   "display_name": "Python 3",
   "language": "python",
   "name": "python3"
  },
  "language_info": {
   "codemirror_mode": {
    "name": "ipython",
    "version": 3
   },
   "file_extension": ".py",
   "mimetype": "text/x-python",
   "name": "python",
   "nbconvert_exporter": "python",
   "pygments_lexer": "ipython3",
   "version": "3.12.5"
  }
 },
 "nbformat": 4,
 "nbformat_minor": 2
}
